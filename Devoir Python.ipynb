{
 "cells": [
  {
   "cell_type": "markdown",
   "metadata": {},
   "source": [
    "# Devoir finale : Python for Data Analisys\n",
    "MEU-Mobile KSD Data Set \n",
    "\n",
    "Sabri LACHIHAB IBO 3"
   ]
  },
  {
   "cell_type": "markdown",
   "metadata": {},
   "source": [
    "# Importation des librairies pour le projet"
   ]
  },
  {
   "cell_type": "code",
   "execution_count": 140,
   "metadata": {},
   "outputs": [],
   "source": [
    "# Pandas pour traiter le dataset\n",
    "import pandas as pd\n",
    "# Librairies nécessaires pour effectuer le scrapping de la page web\n",
    "import os\n",
    "import requests \n",
    "from bs4 import BeautifulSoup\n",
    "from urllib.parse import unquote\n",
    "# Pour la visualisation des graphiques\n",
    "import matplotlib.pyplot as plt\n",
    "%matplotlib inline\n",
    "import seaborn as sns\n",
    "# Effectuer le model et le tester et chercher ses hyperparamètres\n",
    "from sklearn.model_selection import train_test_split\n",
    "from sklearn.ensemble import RandomForestClassifier\n",
    "from sklearn.model_selection import GridSearchCV\n",
    "# Visualisation du rapport de la grid search\n",
    "from time import time\n",
    "import numpy as np\n",
    "# Sauvegarder le modele obtenu à la fin\n",
    "import pickle"
   ]
  },
  {
   "cell_type": "markdown",
   "metadata": {},
   "source": [
    "# Téléchargement via webscrapping de la base de donnée sur le pc local "
   ]
  },
  {
   "cell_type": "code",
   "execution_count": 142,
   "metadata": {},
   "outputs": [
    {
     "name": "stdout",
     "output_type": "stream",
     "text": [
      "l'url à télécharger\n",
      "\n",
      "['https://archive.ics.uci.edu/ml/machine-learning-databases/00399/MEU-Mobile%20KSD%202016.xlsx']\n",
      "Download finished of MEU-Mobile KSD 2016.xlsx\n"
     ]
    }
   ],
   "source": [
    "# Recupuerer le code html de la page qui nous intéresste \n",
    "url = \"https://archive.ics.uci.edu/ml/datasets/MEU-Mobile+KSD#\"\n",
    "base_url = \"https://archive.ics.uci.edu/ml/\"\n",
    "requete = requests.get(url)\n",
    "page = requete.content\n",
    "soup = BeautifulSoup(page,'lxml')\n",
    "html = soup.find_all('a')\n",
    "\n",
    "# Fonction permettant de recuperer le lien du data folder du site (page contenant le lien du dataset) \n",
    "def url_data_folder(html):\n",
    "    for balise in html:\n",
    "        if(balise.get_text()=='Data Folder'):\n",
    "            href = balise.get('href')\n",
    "            new_url = base_url + href.split(\"./\")[1]\n",
    "            return new_url\n",
    "        \n",
    "url_data = url_data_folder(html)\n",
    "\n",
    "# fonction permettant de recuperer le lien du fichier à télécharger sur le pc local\n",
    "def scrapping_data_folder(url):\n",
    "    requete = requests.get(url)\n",
    "    page = requete.content\n",
    "    soup = BeautifulSoup(page,'lxml')\n",
    "    balise_td = soup.find_all('td')\n",
    "    array_url_to_download = []\n",
    "    for item_tr in balise_td:\n",
    "        text = item_tr.get_text().strip()\n",
    "        if(text != '' and text != 'Parent Directory'):\n",
    "            balise_a = item_tr.find('a')\n",
    "            if(balise_a!=None):\n",
    "                array_url_to_download.append(url+balise_a.get('href'))\n",
    "    return array_url_to_download\n",
    "         \n",
    "print('l\\'url à télécharger\\n')\n",
    "array_url_to_download = scrapping_data_folder(url_data)\n",
    "print(array_url_to_download)\n",
    "\n",
    "# fonction permettant de télécharger le fichier sur le pc local\n",
    "def download_file(array):\n",
    "    for url in array:\n",
    "        r = requests.get(url)\n",
    "        new_url = unquote(url)\n",
    "        with open(new_url.split('00399/')[1], 'wb') as f:\n",
    "            f.write(r.content)\n",
    "        print('Download finished of '+new_url.split('00399/')[1])\n",
    "        \n",
    "download_file(array_url_to_download)"
   ]
  },
  {
   "cell_type": "markdown",
   "metadata": {},
   "source": [
    "# Data-préparation (pandas)\n",
    "\n",
    "Notre base de données est le fichier 'MEU-Mobile KSD 2016.xlsx' qu'on téléchargé précédament "
   ]
  },
  {
   "cell_type": "markdown",
   "metadata": {},
   "source": [
    "### Initialisation de notre dataframe"
   ]
  },
  {
   "cell_type": "code",
   "execution_count": 147,
   "metadata": {},
   "outputs": [],
   "source": [
    "df = pd.read_excel(\"MEU-Mobile KSD 2016.xlsx\")"
   ]
  },
  {
   "cell_type": "markdown",
   "metadata": {},
   "source": [
    "### Nettoyage de notre dataframe"
   ]
  },
  {
   "cell_type": "code",
   "execution_count": 148,
   "metadata": {},
   "outputs": [
    {
     "data": {
      "text/html": [
       "<div>\n",
       "<style scoped>\n",
       "    .dataframe tbody tr th:only-of-type {\n",
       "        vertical-align: middle;\n",
       "    }\n",
       "\n",
       "    .dataframe tbody tr th {\n",
       "        vertical-align: top;\n",
       "    }\n",
       "\n",
       "    .dataframe thead th {\n",
       "        text-align: right;\n",
       "    }\n",
       "</style>\n",
       "<table border=\"1\" class=\"dataframe\">\n",
       "  <thead>\n",
       "    <tr style=\"text-align: right;\">\n",
       "      <th></th>\n",
       "      <th>Subject</th>\n",
       "      <th>Hold .</th>\n",
       "      <th>Hold t</th>\n",
       "      <th>Hold i</th>\n",
       "      <th>Hold e</th>\n",
       "      <th>Hold Shift</th>\n",
       "      <th>Hold 5</th>\n",
       "      <th>Hold Shift</th>\n",
       "      <th>Hold Caps</th>\n",
       "      <th>Hold r</th>\n",
       "      <th>...</th>\n",
       "      <th>Size Caps</th>\n",
       "      <th>Size r</th>\n",
       "      <th>Size o</th>\n",
       "      <th>Size a</th>\n",
       "      <th>Size n</th>\n",
       "      <th>Size l</th>\n",
       "      <th>Size Enter</th>\n",
       "      <th>AvH</th>\n",
       "      <th>AvP</th>\n",
       "      <th>AvA</th>\n",
       "    </tr>\n",
       "  </thead>\n",
       "  <tbody>\n",
       "    <tr>\n",
       "      <th>0</th>\n",
       "      <td>1.0</td>\n",
       "      <td>89.0</td>\n",
       "      <td>92.0</td>\n",
       "      <td>64.0</td>\n",
       "      <td>85.0</td>\n",
       "      <td>123.0</td>\n",
       "      <td>82.0</td>\n",
       "      <td>70.0</td>\n",
       "      <td>101.0</td>\n",
       "      <td>84.0</td>\n",
       "      <td>...</td>\n",
       "      <td>0.225806</td>\n",
       "      <td>0.225806</td>\n",
       "      <td>0.322581</td>\n",
       "      <td>0.290323</td>\n",
       "      <td>0.225806</td>\n",
       "      <td>0.354839</td>\n",
       "      <td>0.258065</td>\n",
       "      <td>88.071429</td>\n",
       "      <td>0.190971</td>\n",
       "      <td>0.288018</td>\n",
       "    </tr>\n",
       "    <tr>\n",
       "      <th>1</th>\n",
       "      <td>1.0</td>\n",
       "      <td>90.0</td>\n",
       "      <td>88.0</td>\n",
       "      <td>99.0</td>\n",
       "      <td>83.0</td>\n",
       "      <td>123.0</td>\n",
       "      <td>101.0</td>\n",
       "      <td>81.0</td>\n",
       "      <td>94.0</td>\n",
       "      <td>88.0</td>\n",
       "      <td>...</td>\n",
       "      <td>0.225806</td>\n",
       "      <td>0.225806</td>\n",
       "      <td>0.322581</td>\n",
       "      <td>0.322581</td>\n",
       "      <td>0.258065</td>\n",
       "      <td>0.387097</td>\n",
       "      <td>0.322581</td>\n",
       "      <td>92.071429</td>\n",
       "      <td>0.186514</td>\n",
       "      <td>0.274194</td>\n",
       "    </tr>\n",
       "    <tr>\n",
       "      <th>2</th>\n",
       "      <td>1.0</td>\n",
       "      <td>87.0</td>\n",
       "      <td>90.0</td>\n",
       "      <td>83.0</td>\n",
       "      <td>65.0</td>\n",
       "      <td>79.0</td>\n",
       "      <td>73.0</td>\n",
       "      <td>96.0</td>\n",
       "      <td>62.0</td>\n",
       "      <td>64.0</td>\n",
       "      <td>...</td>\n",
       "      <td>0.225806</td>\n",
       "      <td>0.193548</td>\n",
       "      <td>0.290323</td>\n",
       "      <td>0.322581</td>\n",
       "      <td>0.225806</td>\n",
       "      <td>0.258065</td>\n",
       "      <td>0.225806</td>\n",
       "      <td>83.571429</td>\n",
       "      <td>0.186171</td>\n",
       "      <td>0.271889</td>\n",
       "    </tr>\n",
       "    <tr>\n",
       "      <th>3</th>\n",
       "      <td>1.0</td>\n",
       "      <td>71.0</td>\n",
       "      <td>81.0</td>\n",
       "      <td>62.0</td>\n",
       "      <td>72.0</td>\n",
       "      <td>83.0</td>\n",
       "      <td>94.0</td>\n",
       "      <td>89.0</td>\n",
       "      <td>104.0</td>\n",
       "      <td>73.0</td>\n",
       "      <td>...</td>\n",
       "      <td>0.225806</td>\n",
       "      <td>0.225806</td>\n",
       "      <td>0.258065</td>\n",
       "      <td>0.290323</td>\n",
       "      <td>0.225806</td>\n",
       "      <td>0.322581</td>\n",
       "      <td>0.322581</td>\n",
       "      <td>81.428571</td>\n",
       "      <td>0.177943</td>\n",
       "      <td>0.278802</td>\n",
       "    </tr>\n",
       "    <tr>\n",
       "      <th>4</th>\n",
       "      <td>1.0</td>\n",
       "      <td>89.0</td>\n",
       "      <td>72.0</td>\n",
       "      <td>82.0</td>\n",
       "      <td>82.0</td>\n",
       "      <td>62.0</td>\n",
       "      <td>89.0</td>\n",
       "      <td>68.0</td>\n",
       "      <td>88.0</td>\n",
       "      <td>69.0</td>\n",
       "      <td>...</td>\n",
       "      <td>0.290323</td>\n",
       "      <td>0.225806</td>\n",
       "      <td>0.322581</td>\n",
       "      <td>0.258065</td>\n",
       "      <td>0.225806</td>\n",
       "      <td>0.290323</td>\n",
       "      <td>0.387097</td>\n",
       "      <td>77.428571</td>\n",
       "      <td>0.163200</td>\n",
       "      <td>0.283410</td>\n",
       "    </tr>\n",
       "  </tbody>\n",
       "</table>\n",
       "<p>5 rows × 72 columns</p>\n",
       "</div>"
      ],
      "text/plain": [
       "   Subject  Hold .  Hold t  Hold i  Hold e  Hold Shift  Hold 5  Hold Shift  \\\n",
       "0      1.0    89.0    92.0    64.0    85.0       123.0    82.0        70.0   \n",
       "1      1.0    90.0    88.0    99.0    83.0       123.0   101.0        81.0   \n",
       "2      1.0    87.0    90.0    83.0    65.0        79.0    73.0        96.0   \n",
       "3      1.0    71.0    81.0    62.0    72.0        83.0    94.0        89.0   \n",
       "4      1.0    89.0    72.0    82.0    82.0        62.0    89.0        68.0   \n",
       "\n",
       "   Hold Caps  Hold r    ...     Size Caps    Size r    Size o    Size a  \\\n",
       "0      101.0    84.0    ...      0.225806  0.225806  0.322581  0.290323   \n",
       "1       94.0    88.0    ...      0.225806  0.225806  0.322581  0.322581   \n",
       "2       62.0    64.0    ...      0.225806  0.193548  0.290323  0.322581   \n",
       "3      104.0    73.0    ...      0.225806  0.225806  0.258065  0.290323   \n",
       "4       88.0    69.0    ...      0.290323  0.225806  0.322581  0.258065   \n",
       "\n",
       "     Size n    Size l  Size Enter        AvH       AvP       AvA  \n",
       "0  0.225806  0.354839    0.258065  88.071429  0.190971  0.288018  \n",
       "1  0.258065  0.387097    0.322581  92.071429  0.186514  0.274194  \n",
       "2  0.225806  0.258065    0.225806  83.571429  0.186171  0.271889  \n",
       "3  0.225806  0.322581    0.322581  81.428571  0.177943  0.278802  \n",
       "4  0.225806  0.290323    0.387097  77.428571  0.163200  0.283410  \n",
       "\n",
       "[5 rows x 72 columns]"
      ]
     },
     "execution_count": 148,
     "metadata": {},
     "output_type": "execute_result"
    }
   ],
   "source": [
    "#Suppression des 2 premieres lignes du fichier\n",
    "df = df.drop([0, 1]).reset_index(drop=True)\n",
    "\n",
    "# Modification des noms des colomnes\n",
    "column_names = list(df.iloc[0].values)\n",
    "mapping = {df.columns.values[i]: column_names[i] for i in range(len(column_names))}\n",
    "df = df.rename(columns=mapping).drop([0]).reset_index(drop=True)\n",
    "\n",
    "# Nettoyage des valeures nulles\n",
    "df = df.dropna()\n",
    "\n",
    "# Suppression des lignes vides\n",
    "filterDF = df[\"Subject\"] != \"\"\n",
    "df = dfs[filterDF]\n",
    "\n",
    "#Visualisation des 5 premieres lignes du dataframe\n",
    "df.head()"
   ]
  },
  {
   "cell_type": "markdown",
   "metadata": {},
   "source": [
    "# Data-visualisation des données"
   ]
  },
  {
   "cell_type": "markdown",
   "metadata": {},
   "source": [
    "### Description du dataset"
   ]
  },
  {
   "cell_type": "code",
   "execution_count": 154,
   "metadata": {},
   "outputs": [
    {
     "data": {
      "text/html": [
       "<div>\n",
       "<style scoped>\n",
       "    .dataframe tbody tr th:only-of-type {\n",
       "        vertical-align: middle;\n",
       "    }\n",
       "\n",
       "    .dataframe tbody tr th {\n",
       "        vertical-align: top;\n",
       "    }\n",
       "\n",
       "    .dataframe thead th {\n",
       "        text-align: right;\n",
       "    }\n",
       "</style>\n",
       "<table border=\"1\" class=\"dataframe\">\n",
       "  <thead>\n",
       "    <tr style=\"text-align: right;\">\n",
       "      <th></th>\n",
       "      <th>Subject</th>\n",
       "      <th>Hold .</th>\n",
       "      <th>Hold t</th>\n",
       "      <th>Hold i</th>\n",
       "      <th>Hold e</th>\n",
       "      <th>Hold Shift</th>\n",
       "      <th>Hold 5</th>\n",
       "      <th>Hold Shift</th>\n",
       "      <th>Hold Caps</th>\n",
       "      <th>Hold r</th>\n",
       "      <th>...</th>\n",
       "      <th>Size Caps</th>\n",
       "      <th>Size r</th>\n",
       "      <th>Size o</th>\n",
       "      <th>Size a</th>\n",
       "      <th>Size n</th>\n",
       "      <th>Size l</th>\n",
       "      <th>Size Enter</th>\n",
       "      <th>AvH</th>\n",
       "      <th>AvP</th>\n",
       "      <th>AvA</th>\n",
       "    </tr>\n",
       "  </thead>\n",
       "  <tbody>\n",
       "    <tr>\n",
       "      <th>count</th>\n",
       "      <td>2856.00000</td>\n",
       "      <td>2856.000000</td>\n",
       "      <td>2856.000000</td>\n",
       "      <td>2856.000000</td>\n",
       "      <td>2856.000000</td>\n",
       "      <td>2856.000000</td>\n",
       "      <td>2856.000000</td>\n",
       "      <td>2856.000000</td>\n",
       "      <td>2856.000000</td>\n",
       "      <td>2856.000000</td>\n",
       "      <td>...</td>\n",
       "      <td>2856.000000</td>\n",
       "      <td>2856.000000</td>\n",
       "      <td>2856.000000</td>\n",
       "      <td>2856.000000</td>\n",
       "      <td>2856.000000</td>\n",
       "      <td>2856.000000</td>\n",
       "      <td>2856.000000</td>\n",
       "      <td>2856.000000</td>\n",
       "      <td>2856.000000</td>\n",
       "      <td>2856.000000</td>\n",
       "    </tr>\n",
       "    <tr>\n",
       "      <th>mean</th>\n",
       "      <td>28.50000</td>\n",
       "      <td>94.817577</td>\n",
       "      <td>89.774860</td>\n",
       "      <td>91.097689</td>\n",
       "      <td>87.083333</td>\n",
       "      <td>91.549370</td>\n",
       "      <td>84.568978</td>\n",
       "      <td>93.727941</td>\n",
       "      <td>86.810924</td>\n",
       "      <td>86.292717</td>\n",
       "      <td>...</td>\n",
       "      <td>0.260222</td>\n",
       "      <td>0.268264</td>\n",
       "      <td>0.326895</td>\n",
       "      <td>0.306576</td>\n",
       "      <td>0.283320</td>\n",
       "      <td>0.299980</td>\n",
       "      <td>0.362429</td>\n",
       "      <td>89.292267</td>\n",
       "      <td>0.217467</td>\n",
       "      <td>0.305760</td>\n",
       "    </tr>\n",
       "    <tr>\n",
       "      <th>std</th>\n",
       "      <td>16.16606</td>\n",
       "      <td>23.236046</td>\n",
       "      <td>20.987113</td>\n",
       "      <td>22.992405</td>\n",
       "      <td>20.687536</td>\n",
       "      <td>22.757913</td>\n",
       "      <td>18.968962</td>\n",
       "      <td>22.184260</td>\n",
       "      <td>21.014413</td>\n",
       "      <td>19.645914</td>\n",
       "      <td>...</td>\n",
       "      <td>0.062298</td>\n",
       "      <td>0.061430</td>\n",
       "      <td>0.105392</td>\n",
       "      <td>0.094083</td>\n",
       "      <td>0.076654</td>\n",
       "      <td>0.095267</td>\n",
       "      <td>0.122663</td>\n",
       "      <td>15.540854</td>\n",
       "      <td>0.103830</td>\n",
       "      <td>0.061332</td>\n",
       "    </tr>\n",
       "    <tr>\n",
       "      <th>min</th>\n",
       "      <td>1.00000</td>\n",
       "      <td>18.000000</td>\n",
       "      <td>20.000000</td>\n",
       "      <td>20.000000</td>\n",
       "      <td>9.000000</td>\n",
       "      <td>19.000000</td>\n",
       "      <td>18.000000</td>\n",
       "      <td>18.000000</td>\n",
       "      <td>16.000000</td>\n",
       "      <td>20.000000</td>\n",
       "      <td>...</td>\n",
       "      <td>0.064516</td>\n",
       "      <td>0.096774</td>\n",
       "      <td>0.096774</td>\n",
       "      <td>0.064516</td>\n",
       "      <td>0.129032</td>\n",
       "      <td>0.096774</td>\n",
       "      <td>0.096774</td>\n",
       "      <td>52.071429</td>\n",
       "      <td>0.044229</td>\n",
       "      <td>0.138249</td>\n",
       "    </tr>\n",
       "    <tr>\n",
       "      <th>25%</th>\n",
       "      <td>14.75000</td>\n",
       "      <td>80.000000</td>\n",
       "      <td>75.000000</td>\n",
       "      <td>75.000000</td>\n",
       "      <td>73.000000</td>\n",
       "      <td>77.000000</td>\n",
       "      <td>73.000000</td>\n",
       "      <td>79.000000</td>\n",
       "      <td>71.000000</td>\n",
       "      <td>73.000000</td>\n",
       "      <td>...</td>\n",
       "      <td>0.225806</td>\n",
       "      <td>0.225806</td>\n",
       "      <td>0.258065</td>\n",
       "      <td>0.258065</td>\n",
       "      <td>0.225806</td>\n",
       "      <td>0.258065</td>\n",
       "      <td>0.290323</td>\n",
       "      <td>78.714286</td>\n",
       "      <td>0.127200</td>\n",
       "      <td>0.262673</td>\n",
       "    </tr>\n",
       "    <tr>\n",
       "      <th>50%</th>\n",
       "      <td>28.50000</td>\n",
       "      <td>92.000000</td>\n",
       "      <td>89.000000</td>\n",
       "      <td>90.000000</td>\n",
       "      <td>86.000000</td>\n",
       "      <td>89.000000</td>\n",
       "      <td>83.000000</td>\n",
       "      <td>92.000000</td>\n",
       "      <td>87.000000</td>\n",
       "      <td>85.000000</td>\n",
       "      <td>...</td>\n",
       "      <td>0.258065</td>\n",
       "      <td>0.258065</td>\n",
       "      <td>0.290323</td>\n",
       "      <td>0.290323</td>\n",
       "      <td>0.290323</td>\n",
       "      <td>0.290323</td>\n",
       "      <td>0.322581</td>\n",
       "      <td>88.071429</td>\n",
       "      <td>0.201771</td>\n",
       "      <td>0.297235</td>\n",
       "    </tr>\n",
       "    <tr>\n",
       "      <th>75%</th>\n",
       "      <td>42.25000</td>\n",
       "      <td>108.000000</td>\n",
       "      <td>102.000000</td>\n",
       "      <td>103.000000</td>\n",
       "      <td>100.000000</td>\n",
       "      <td>106.000000</td>\n",
       "      <td>95.000000</td>\n",
       "      <td>107.000000</td>\n",
       "      <td>99.000000</td>\n",
       "      <td>99.000000</td>\n",
       "      <td>...</td>\n",
       "      <td>0.290323</td>\n",
       "      <td>0.290323</td>\n",
       "      <td>0.387097</td>\n",
       "      <td>0.354839</td>\n",
       "      <td>0.322581</td>\n",
       "      <td>0.322581</td>\n",
       "      <td>0.419355</td>\n",
       "      <td>98.375000</td>\n",
       "      <td>0.294600</td>\n",
       "      <td>0.347926</td>\n",
       "    </tr>\n",
       "    <tr>\n",
       "      <th>max</th>\n",
       "      <td>56.00000</td>\n",
       "      <td>226.000000</td>\n",
       "      <td>226.000000</td>\n",
       "      <td>252.000000</td>\n",
       "      <td>242.000000</td>\n",
       "      <td>203.000000</td>\n",
       "      <td>170.000000</td>\n",
       "      <td>213.000000</td>\n",
       "      <td>186.000000</td>\n",
       "      <td>166.000000</td>\n",
       "      <td>...</td>\n",
       "      <td>0.548387</td>\n",
       "      <td>0.709677</td>\n",
       "      <td>1.000000</td>\n",
       "      <td>1.000000</td>\n",
       "      <td>0.935484</td>\n",
       "      <td>1.000000</td>\n",
       "      <td>1.000000</td>\n",
       "      <td>153.214286</td>\n",
       "      <td>0.603086</td>\n",
       "      <td>0.525346</td>\n",
       "    </tr>\n",
       "  </tbody>\n",
       "</table>\n",
       "<p>8 rows × 72 columns</p>\n",
       "</div>"
      ],
      "text/plain": [
       "          Subject       Hold .       Hold t       Hold i       Hold e  \\\n",
       "count  2856.00000  2856.000000  2856.000000  2856.000000  2856.000000   \n",
       "mean     28.50000    94.817577    89.774860    91.097689    87.083333   \n",
       "std      16.16606    23.236046    20.987113    22.992405    20.687536   \n",
       "min       1.00000    18.000000    20.000000    20.000000     9.000000   \n",
       "25%      14.75000    80.000000    75.000000    75.000000    73.000000   \n",
       "50%      28.50000    92.000000    89.000000    90.000000    86.000000   \n",
       "75%      42.25000   108.000000   102.000000   103.000000   100.000000   \n",
       "max      56.00000   226.000000   226.000000   252.000000   242.000000   \n",
       "\n",
       "        Hold Shift       Hold 5   Hold Shift    Hold Caps       Hold r  \\\n",
       "count  2856.000000  2856.000000  2856.000000  2856.000000  2856.000000   \n",
       "mean     91.549370    84.568978    93.727941    86.810924    86.292717   \n",
       "std      22.757913    18.968962    22.184260    21.014413    19.645914   \n",
       "min      19.000000    18.000000    18.000000    16.000000    20.000000   \n",
       "25%      77.000000    73.000000    79.000000    71.000000    73.000000   \n",
       "50%      89.000000    83.000000    92.000000    87.000000    85.000000   \n",
       "75%     106.000000    95.000000   107.000000    99.000000    99.000000   \n",
       "max     203.000000   170.000000   213.000000   186.000000   166.000000   \n",
       "\n",
       "          ...         Size Caps       Size r       Size o       Size a  \\\n",
       "count     ...       2856.000000  2856.000000  2856.000000  2856.000000   \n",
       "mean      ...          0.260222     0.268264     0.326895     0.306576   \n",
       "std       ...          0.062298     0.061430     0.105392     0.094083   \n",
       "min       ...          0.064516     0.096774     0.096774     0.064516   \n",
       "25%       ...          0.225806     0.225806     0.258065     0.258065   \n",
       "50%       ...          0.258065     0.258065     0.290323     0.290323   \n",
       "75%       ...          0.290323     0.290323     0.387097     0.354839   \n",
       "max       ...          0.548387     0.709677     1.000000     1.000000   \n",
       "\n",
       "            Size n       Size l   Size Enter          AvH          AvP  \\\n",
       "count  2856.000000  2856.000000  2856.000000  2856.000000  2856.000000   \n",
       "mean      0.283320     0.299980     0.362429    89.292267     0.217467   \n",
       "std       0.076654     0.095267     0.122663    15.540854     0.103830   \n",
       "min       0.129032     0.096774     0.096774    52.071429     0.044229   \n",
       "25%       0.225806     0.258065     0.290323    78.714286     0.127200   \n",
       "50%       0.290323     0.290323     0.322581    88.071429     0.201771   \n",
       "75%       0.322581     0.322581     0.419355    98.375000     0.294600   \n",
       "max       0.935484     1.000000     1.000000   153.214286     0.603086   \n",
       "\n",
       "               AvA  \n",
       "count  2856.000000  \n",
       "mean      0.305760  \n",
       "std       0.061332  \n",
       "min       0.138249  \n",
       "25%       0.262673  \n",
       "50%       0.297235  \n",
       "75%       0.347926  \n",
       "max       0.525346  \n",
       "\n",
       "[8 rows x 72 columns]"
      ]
     },
     "execution_count": 154,
     "metadata": {},
     "output_type": "execute_result"
    }
   ],
   "source": [
    "df.describe()"
   ]
  },
  {
   "cell_type": "markdown",
   "metadata": {},
   "source": [
    "On peut voir qu'on a 56 subjets pour 71(72-1) features dans ce dataset\n",
    "\n",
    "On a 2856 mesures qui a été effectués\n",
    "\n"
   ]
  },
  {
   "cell_type": "markdown",
   "metadata": {},
   "source": [
    "### Nombres de mesures par subject"
   ]
  },
  {
   "cell_type": "code",
   "execution_count": 163,
   "metadata": {},
   "outputs": [
    {
     "name": "stdout",
     "output_type": "stream",
     "text": [
      "55.0    51\n",
      "53.0    51\n",
      "26.0    51\n",
      "25.0    51\n",
      "24.0    51\n",
      "23.0    51\n",
      "22.0    51\n",
      "21.0    51\n",
      "20.0    51\n",
      "19.0    51\n",
      "18.0    51\n",
      "17.0    51\n",
      "16.0    51\n",
      "15.0    51\n",
      "14.0    51\n",
      "13.0    51\n",
      "12.0    51\n",
      "11.0    51\n",
      "10.0    51\n",
      "9.0     51\n",
      "8.0     51\n",
      "7.0     51\n",
      "6.0     51\n",
      "5.0     51\n",
      "4.0     51\n",
      "3.0     51\n",
      "2.0     51\n",
      "27.0    51\n",
      "28.0    51\n",
      "29.0    51\n",
      "54.0    51\n",
      "51.0    51\n",
      "49.0    51\n",
      "47.0    51\n",
      "45.0    51\n",
      "43.0    51\n",
      "41.0    51\n",
      "39.0    51\n",
      "37.0    51\n",
      "35.0    51\n",
      "33.0    51\n",
      "56.0    51\n",
      "52.0    51\n",
      "30.0    51\n",
      "50.0    51\n",
      "48.0    51\n",
      "46.0    51\n",
      "44.0    51\n",
      "42.0    51\n",
      "40.0    51\n",
      "38.0    51\n",
      "36.0    51\n",
      "34.0    51\n",
      "32.0    51\n",
      "31.0    51\n",
      "1.0     51\n",
      "Name: Subject, dtype: int64\n"
     ]
    }
   ],
   "source": [
    "print(df.Subject.value_counts())"
   ]
  },
  {
   "cell_type": "markdown",
   "metadata": {},
   "source": [
    "On a 51 mesures par subject d'où 51*56=2856 mesures"
   ]
  },
  {
   "cell_type": "markdown",
   "metadata": {},
   "source": [
    "### Visualisation graphique du nombre de mesures par subject"
   ]
  },
  {
   "cell_type": "code",
   "execution_count": 169,
   "metadata": {},
   "outputs": [
    {
     "data": {
      "image/png": "[encoded data removed]",
      "text/plain": [
       "<Figure size 648x1440 with 1 Axes>"
      ]
     },
     "metadata": {},
     "output_type": "display_data"
    }
   ],
   "source": [
    "plt.figure(figsize=(9,20))\n",
    "plt.title('Visualisation graphique du nombre de mesures par subject')\n",
    "plt.ylabel('Subject')\n",
    "plt.xlabel('Nombre de mesures')\n",
    "plt.barh(range(56),df.Subject.value_counts(), color=sns.color_palette(n_colors=56))\n",
    "plt.yticks(range(56))\n",
    "plt.show()"
   ]
  },
  {
   "cell_type": "code",
   "execution_count": 170,
   "metadata": {},
   "outputs": [],
   "source": [
    "### Visualisation de la matrice de corrélation"
   ]
  },
  {
   "cell_type": "code",
   "execution_count": 171,
   "metadata": {},
   "outputs": [
    {
     "data": {
      "text/plain": [
       "<matplotlib.axes._subplots.AxesSubplot at 0x1a200abcc0>"
      ]
     },
     "execution_count": 171,
     "metadata": {},
     "output_type": "execute_result"
    },
    {
     "data": {
      "image/png": "[encoded data removed]",
      "text/plain": [
       "<Figure size 4032x5112 with 2 Axes>"
      ]
     },
     "metadata": {},
     "output_type": "display_data"
    }
   ],
   "source": [
    "# Convertir les données en float\n",
    "df = dfs.astype(float)\n",
    "\n",
    "# Mise en place de la matrice de coorélation\n",
    "corr                             = df.corr()\n",
    "mask                             = np.zeros_like(corr, dtype=np.bool)\n",
    "mask[np.triu_indices_from(mask)] = True\n",
    "f, ax                            = plt.subplots(figsize=(56,71))\n",
    "cmap                             = sns.diverging_palette(220, 10, as_cmap=True)\n",
    "\n",
    "# Visualisation de la matrice\n",
    "sns.heatmap(corr, mask=mask, cmap=cmap, vmax=0.5, center=0, square=True, linewidths=.1, cbar_kws={\"shrink\": .1})"
   ]
  },
  {
   "cell_type": "markdown",
   "metadata": {},
   "source": [
    "On a bien une coorélation entre les differents mesures de Hold, Pressure et Finger-Area avec leurs moyennes\n",
    "\n",
    "On a bien un corrélations aussi avec les différentes mesures des Hold"
   ]
  },
  {
   "cell_type": "markdown",
   "metadata": {},
   "source": [
    "# Modélisation"
   ]
  },
  {
   "cell_type": "markdown",
   "metadata": {},
   "source": [
    "### Definition du modèle"
   ]
  },
  {
   "cell_type": "code",
   "execution_count": 183,
   "metadata": {},
   "outputs": [],
   "source": [
    "X = df.drop(\"Subject\", axis=\"columns\")\n",
    "Y = df[\"Subject\"].astype(int)"
   ]
  },
  {
   "cell_type": "markdown",
   "metadata": {},
   "source": [
    "### Création d'un jeu de test et d'apprentissage"
   ]
  },
  {
   "cell_type": "code",
   "execution_count": 184,
   "metadata": {},
   "outputs": [
    {
     "data": {
      "text/plain": [
       "((2142, 71), (714, 71))"
      ]
     },
     "execution_count": 184,
     "metadata": {},
     "output_type": "execute_result"
    }
   ],
   "source": [
    "X_train, X_test, y_train, y_test = train_test_split( X, Y, test_size=0.25)\n",
    "X_train.shape, X_test.shape"
   ]
  },
  {
   "cell_type": "markdown",
   "metadata": {},
   "source": [
    "### Entrainer le modèle : Choix sur une RandomForestClassifier"
   ]
  },
  {
   "cell_type": "code",
   "execution_count": 185,
   "metadata": {},
   "outputs": [],
   "source": [
    "algo = RandomForestClassifier()"
   ]
  },
  {
   "cell_type": "code",
   "execution_count": 186,
   "metadata": {},
   "outputs": [],
   "source": [
    "modele = algo.fit(X_train, y_train)"
   ]
  },
  {
   "cell_type": "code",
   "execution_count": 190,
   "metadata": {},
   "outputs": [
    {
     "name": "stdout",
     "output_type": "stream",
     "text": [
      "\n",
      " Accuracy: 79.132 pour ce modèle\n",
      "\n"
     ]
    }
   ],
   "source": [
    "print(\"\\n Accuracy: %.3f pour ce modèle\\n\" % (modele.score(X_test, y_test)*100.0))"
   ]
  },
  {
   "cell_type": "markdown",
   "metadata": {},
   "source": [
    "# Optimisation des hyperparamètres (grid search)"
   ]
  },
  {
   "cell_type": "code",
   "execution_count": 193,
   "metadata": {},
   "outputs": [
    {
     "name": "stdout",
     "output_type": "stream",
     "text": [
      "La GridSearchCV met 929.75 secondes pour afficher les 324 candidats pour l'optimisation des hyperparametres.\n",
      "Model with rank: 1\n",
      "Mean validation score: 0.882 (std: 0.047)\n",
      "Parameters: {'bootstrap': False, 'criterion': 'entropy', 'max_depth': 9, 'max_features': 'auto', 'min_samples_split': 3, 'n_estimators': 71}\n",
      "\n",
      "Model with rank: 2\n",
      "Mean validation score: 0.880 (std: 0.036)\n",
      "Parameters: {'bootstrap': False, 'criterion': 'entropy', 'max_depth': 9, 'max_features': 'sqrt', 'min_samples_split': 3, 'n_estimators': 71}\n",
      "\n",
      "Model with rank: 3\n",
      "Mean validation score: 0.878 (std: 0.044)\n",
      "Parameters: {'bootstrap': False, 'criterion': 'entropy', 'max_depth': 9, 'max_features': 'sqrt', 'min_samples_split': 7, 'n_estimators': 71}\n",
      "\n"
     ]
    }
   ],
   "source": [
    "# utilisation d'une grille complete avec toutes les parametres jugés nécessaires\n",
    "\n",
    "param_grid = {\n",
    "    \"n_estimators\": [10,20,71],\n",
    "    \"bootstrap\": [False],\n",
    "    \"criterion\": [\"gini\", \"entropy\"],\n",
    "    \"min_samples_split\" : [3,7, 10],\n",
    "    \"max_depth\" :range(10)[1:],\n",
    "    \"max_features\": ['auto', 'sqrt']\n",
    "}\n",
    "\n",
    "# afficher les 3 meilleures resultats de notre grid search ainsi que le temps effectué\n",
    "\n",
    "def rapport(resultat, n_top=3):\n",
    "    for i in range(1, n_top + 1):\n",
    "        candidates = np.flatnonzero(resultat['rank_test_score'] == i)\n",
    "        for candidate in candidates:\n",
    "            print(\"Model with rank: {0}\".format(i))\n",
    "            print(\"Mean validation score: {0:.3f} (std: {1:.3f})\".format(\n",
    "                  resultat['mean_test_score'][candidate],\n",
    "                  resultat['std_test_score'][candidate]))\n",
    "            print(\"Parameters: {0}\".format(resultat['params'][candidate]))\n",
    "            print(\"\")\n",
    "\n",
    "\n",
    "# Effectuer grid search\n",
    "grid_search = GridSearchCV(algo, param_grid=param_grid, cv=5)\n",
    "start = time()\n",
    "grid_search.fit(X,Y)\n",
    "\n",
    "print(\"La GridSearchCV met %.2f secondes pour afficher les %d candidats pour l'optimisation des hyperparametres.\"\n",
    "      % (time() - start, len(grid_search.cv_results_['params'])))\n",
    "report(grid_search.cv_results_)"
   ]
  },
  {
   "cell_type": "markdown",
   "metadata": {},
   "source": [
    "# Optimisation du modèle"
   ]
  },
  {
   "cell_type": "code",
   "execution_count": 196,
   "metadata": {},
   "outputs": [
    {
     "name": "stdout",
     "output_type": "stream",
     "text": [
      "\n",
      "Accuracy: 90.196 pour ce modele optimisé\n",
      "\n"
     ]
    }
   ],
   "source": [
    "hyperparametres = {\n",
    "    'bootstrap': False, \n",
    "    'criterion': 'entropy', \n",
    "    'max_depth': 9, \n",
    "    'max_features': 'auto', \n",
    "    'min_samples_split': 3, \n",
    "    'n_estimators': 71\n",
    "}\n",
    "\n",
    "algo2 = RandomForestClassifier(**hyperparametres)\n",
    "\n",
    "newModele = algo2.fit(X_train, y_train)\n",
    "\n",
    "print(\"\\nAccuracy: %.3f pour ce modele optimisé\\n\" % (newModele.score(X_test, y_test)*100.0))"
   ]
  },
  {
   "cell_type": "markdown",
   "metadata": {},
   "source": [
    "# ROC "
   ]
  },
  {
   "cell_type": "markdown",
   "metadata": {},
   "source": [
    "Roc est n'inutile ici car on a un problème multi class et que la ROC est faite pour les problèmes à classification binaire"
   ]
  },
  {
   "cell_type": "markdown",
   "metadata": {},
   "source": [
    "# API\n",
    "\n"
   ]
  },
  {
   "cell_type": "markdown",
   "metadata": {},
   "source": [
    "### Sauvegarder le modele "
   ]
  },
  {
   "cell_type": "code",
   "execution_count": 326,
   "metadata": {},
   "outputs": [],
   "source": [
    "with open('Api/modele.ckpt', 'wb') as file:\n",
    "    pickle.dump(newModele, file)"
   ]
  },
  {
   "cell_type": "markdown",
   "metadata": {},
   "source": [
    "### Creation d'une instance de tests pour api sous forme d'une feuille excel"
   ]
  },
  {
   "cell_type": "code",
   "execution_count": 325,
   "metadata": {},
   "outputs": [],
   "source": [
    "X_test.to_csv('Api/data.csv')"
   ]
  }
 ],
 "metadata": {
  "kernelspec": {
   "display_name": "Python 3",
   "language": "python",
   "name": "python3"
  },
  "language_info": {
   "codemirror_mode": {
    "name": "ipython",
    "version": 3
   },
   "file_extension": ".py",
   "mimetype": "text/x-python",
   "name": "python",
   "nbconvert_exporter": "python",
   "pygments_lexer": "ipython3",
   "version": "3.6.5"
  }
 },
 "nbformat": 4,
 "nbformat_minor": 2
}
